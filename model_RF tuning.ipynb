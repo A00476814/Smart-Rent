{
 "cells": [
  {
   "cell_type": "code",
   "execution_count": 3,
   "metadata": {},
   "outputs": [
    {
     "name": "stdout",
     "output_type": "stream",
     "text": [
      "Average MSE: 193541.5386912996\n"
     ]
    }
   ],
   "source": [
    "import pandas as pd\n",
    "import numpy as np\n",
    "from sklearn.model_selection import train_test_split, cross_val_score\n",
    "from sklearn.preprocessing import StandardScaler, OneHotEncoder\n",
    "from sklearn.compose import ColumnTransformer\n",
    "from sklearn.pipeline import Pipeline\n",
    "from sklearn.ensemble import RandomForestRegressor\n",
    "from scipy.stats import zscore\n",
    "\n",
    "data = pd.read_csv('filtered_data.csv')\n",
    "\n",
    "# Identify your feature matrix X and target vector y\n",
    "X = data.drop('Price', axis=1)\n",
    "y = data['Price']\n",
    "\n",
    "# Split the data into training and testing sets\n",
    "X_train, X_test, y_train, y_test = train_test_split(X, y, test_size=0.2, random_state=42)\n",
    "\n",
    "# Specify columns for standardization and one-hot encoding\n",
    "columns_to_standardize = ['Rooms', 'Number of Bathrooms', 'Size (sqft)', 'Walk Score', 'Transit Score', 'Bike Score', \n",
    "                          'Time to Nearest Hospital', 'Time to Nearest Police Station', 'Time to Nearest Store', \n",
    "                          'Time to Nearest Pharmacy']\n",
    "columns_to_encode = ['Property Type']\n",
    "\n",
    "# Define the preprocessing for numeric and categorical features\n",
    "preprocessor = ColumnTransformer(\n",
    "    transformers=[\n",
    "        ('num', StandardScaler(), columns_to_standardize),\n",
    "        ('cat', OneHotEncoder(), columns_to_encode)\n",
    "    ])\n",
    "\n",
    "# Create a pipeline that combines the preprocessor with a model\n",
    "model_pipeline = Pipeline(steps=[('preprocessor', preprocessor),\n",
    "                                 ('regressor', RandomForestRegressor(n_estimators=100, random_state=42))])\n",
    "\n",
    "# Evaluate the pipeline using cross-validation\n",
    "scores = cross_val_score(model_pipeline, X_train, y_train, cv=5, scoring='neg_mean_squared_error')\n",
    "print(f\"Average MSE: {-scores.mean()}\")\n",
    "\n",
    "# Fit the pipeline on the training data\n",
    "model_pipeline.fit(X_train, y_train)\n",
    "\n",
    "# Make predictions on the test set\n",
    "predictions = model_pipeline.predict(X_test)"
   ]
  },
  {
   "cell_type": "code",
   "execution_count": 4,
   "metadata": {},
   "outputs": [
    {
     "name": "stdout",
     "output_type": "stream",
     "text": [
      "Mean Absolute Error (MAE): 152.7890186017686\n",
      "Mean Squared Error (MSE): 48336.01885871195\n",
      "Root Mean Squared Error (RMSE): 219.8545402276513\n",
      "R-squared (R2): 0.7952931972442445\n",
      "Adjusted R-squared: 0.6997633559582253\n",
      "Mean Absolute Percentage Error (MAPE): 7.1089265469526%\n"
     ]
    }
   ],
   "source": [
    "from sklearn.metrics import mean_absolute_error, mean_squared_error, r2_score\n",
    "import numpy as np\n",
    "\n",
    "# Calculate MAE\n",
    "mae = mean_absolute_error(y_test, predictions)\n",
    "print(f\"Mean Absolute Error (MAE): {mae}\")\n",
    "\n",
    "# Calculate MSE\n",
    "mse = mean_squared_error(y_test, predictions)\n",
    "print(f\"Mean Squared Error (MSE): {mse}\")\n",
    "\n",
    "# Calculate RMSE\n",
    "rmse = np.sqrt(mse)\n",
    "print(f\"Root Mean Squared Error (RMSE): {rmse}\")\n",
    "\n",
    "# Calculate R-squared (R2)\n",
    "r2 = r2_score(y_test, predictions)\n",
    "print(f\"R-squared (R2): {r2}\")\n",
    "\n",
    "# Calculate Adjusted R-squared\n",
    "# Adjusted R2 = 1 - (1-R2)*(n-1)/(n-p-1)\n",
    "# n is the number of samples, p is the number of predictors\n",
    "n = X_test.shape[0]\n",
    "p = X_test.shape[1]\n",
    "adjusted_r2 = 1 - (1-r2) * (n-1) / (n-p-1)\n",
    "print(f\"Adjusted R-squared: {adjusted_r2}\")\n",
    "\n",
    "# Calculate MAPE - Note: Need to handle cases where y_test is 0 to avoid division by zero\n",
    "mape = np.mean(np.abs((y_test - predictions) / y_test)) * 100\n",
    "print(f\"Mean Absolute Percentage Error (MAPE): {mape}%\")"
   ]
  }
 ],
 "metadata": {
  "kernelspec": {
   "display_name": "smu",
   "language": "python",
   "name": "python3"
  },
  "language_info": {
   "codemirror_mode": {
    "name": "ipython",
    "version": 3
   },
   "file_extension": ".py",
   "mimetype": "text/x-python",
   "name": "python",
   "nbconvert_exporter": "python",
   "pygments_lexer": "ipython3",
   "version": "3.12.2"
  }
 },
 "nbformat": 4,
 "nbformat_minor": 2
}
