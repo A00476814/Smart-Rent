{
 "cells": [
  {
   "cell_type": "code",
   "execution_count": 1,
   "metadata": {},
   "outputs": [],
   "source": [
    "import pandas as pd\n",
    "import numpy as np\n",
    "from sklearn.impute import KNNImputer\n",
    "\n",
    "# Assuming 'data' is your DataFrame\n",
    "data = pd.read_csv('cleaned_data.csv')\n",
    "\n",
    "# Apply your filters\n",
    "data = data[(data['Latitude'] >= 44.4) & (data['Latitude'] <= 45.1)]\n",
    "data = data[(data['Longitude'] >= -64) & (data['Longitude'] <= -63.2)]\n",
    "\n",
    "# Reset index after filtering\n",
    "data.reset_index(drop=True, inplace=True)\n",
    "\n",
    "# Prepare data for imputation\n",
    "columns_for_imputation = ['Longitude', 'Latitude', 'Transit Score', 'Bike Score', 'Walk Score']\n",
    "data_for_imputation = data[columns_for_imputation]\n",
    "\n",
    "# Initialize and perform the imputation\n",
    "imputer = KNNImputer(n_neighbors=3)\n",
    "imputed_data = imputer.fit_transform(data_for_imputation)\n",
    "\n",
    "# Convert imputed data to DataFrame and reset index\n",
    "imputed_df = pd.DataFrame(imputed_data, columns=columns_for_imputation)\n",
    "imputed_df.reset_index(drop=True, inplace=True)\n",
    "\n",
    "# Round scores and convert to integer\n",
    "imputed_df['Transit Score'] = np.round(imputed_df['Transit Score']).astype(int)\n",
    "imputed_df['Bike Score'] = np.round(imputed_df['Bike Score']).astype(int)\n",
    "imputed_df['Walk Score'] = np.round(imputed_df['Walk Score']).astype(int)\n",
    "\n",
    "# Assign the imputed and rounded scores back\n",
    "data[columns_for_imputation] = imputed_df\n",
    "\n",
    "# Outlier Removal\n",
    "def modified_z_score(column):\n",
    "    median = column.median()\n",
    "    mad = np.median(np.abs(column - median))\n",
    "    if mad == 0:  # Prevent division by zero\n",
    "        return column * 0  # Return a zeroed series to preserve shape\n",
    "    return 0.6745 * (column - median) / mad\n",
    "\n",
    "# Apply the Modified Z-Score Method\n",
    "threshold = 3.5  # Adjust based on your tolerance for outliers\n",
    "cleaned_indices = set(data.index)  # Initialize with all indices\n",
    "\n",
    "for col in data.select_dtypes(include=['float64', 'int64']).columns:\n",
    "    z_scores = modified_z_score(data[col])\n",
    "    # Update cleaned indices to keep rows within the threshold\n",
    "    cleaned_indices = cleaned_indices.intersection(set(data.index[(z_scores < threshold) & (z_scores > -threshold)]))\n",
    "\n",
    "# Convert set to list before filtering\n",
    "cleaned_indices_list = list(cleaned_indices)\n",
    "\n",
    "# Filter the DataFrame to only include rows with indices in cleaned_indices_list\n",
    "data = data.loc[cleaned_indices_list]\n",
    "\n",
    "# Write file for easier viewing\n",
    "data.to_csv('filtered_data.csv', index=False)\n"
   ]
  },
  {
   "cell_type": "markdown",
   "metadata": {},
   "source": [
    "# "
   ]
  }
 ],
 "metadata": {
  "kernelspec": {
   "display_name": "smu",
   "language": "python",
   "name": "python3"
  },
  "language_info": {
   "codemirror_mode": {
    "name": "ipython",
    "version": 3
   },
   "file_extension": ".py",
   "mimetype": "text/x-python",
   "name": "python",
   "nbconvert_exporter": "python",
   "pygments_lexer": "ipython3",
   "version": "3.12.2"
  }
 },
 "nbformat": 4,
 "nbformat_minor": 2
}
